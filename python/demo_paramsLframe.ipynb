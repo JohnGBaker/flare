{
 "cells": [
  {
   "cell_type": "markdown",
   "metadata": {},
   "source": [
    "# Parameter conversion to L-frame"
   ]
  },
  {
   "cell_type": "markdown",
   "metadata": {},
   "source": [
    "Author date"
   ]
  },
  {
   "cell_type": "code",
   "execution_count": 1,
   "metadata": {},
   "outputs": [
    {
     "name": "stdout",
     "output_type": "stream",
     "text": [
      "Populating the interactive namespace from numpy and matplotlib\n"
     ]
    }
   ],
   "source": [
    "%pylab inline"
   ]
  },
  {
   "cell_type": "code",
   "execution_count": 2,
   "metadata": {},
   "outputs": [],
   "source": [
    "from gwutils.gwtools import *\n",
    "from gwutils.gwplots import *"
   ]
  },
  {
   "cell_type": "code",
   "execution_count": 3,
   "metadata": {},
   "outputs": [
    {
     "data": {
      "text/plain": [
       "array([1.50000000e+06, 5.00000000e+05, 0.00000000e+00, 3.65943000e+04,\n",
       "       7.00000000e-01, 1.04719755e+00, 1.70000000e+00, 1.04719760e+00,\n",
       "       1.20000000e+00, 2.00000000e+06, 3.00000000e+00, 7.32539013e+05,\n",
       "       1.87500000e-01])"
      ]
     },
     "execution_count": 3,
     "metadata": {},
     "output_type": "execute_result"
    }
   ],
   "source": [
    "#params_canz4 = parse_params_file('/Users/marsat/data/flare/results/LISAinference/bambi_040218/canz4_22_inc_03_params.txt')\n",
    "params_canz4 = parse_params_file('canz4_22_inc_03_params.txt')\n",
    "params_canz4"
   ]
  },
  {
   "cell_type": "code",
   "execution_count": 4,
   "metadata": {},
   "outputs": [
    {
     "data": {
      "text/plain": [
       "array([ 1.50000000e+06,  5.00000000e+05,  3.21470068e+01,  3.65943000e+04,\n",
       "       -7.00000000e-01,  1.04719755e+00, -9.66286870e-01,  5.10718299e-01,\n",
       "        2.94751447e+00,  2.00000000e+06,  3.00000000e+00,  7.32539013e+05,\n",
       "        1.87500000e-01])"
      ]
     },
     "execution_count": 4,
     "metadata": {},
     "output_type": "execute_result"
    }
   ],
   "source": [
    "params_canz4_Lframe = convert_params_Lframe(params_canz4)\n",
    "params_canz4_Lframe"
   ]
  },
  {
   "cell_type": "code",
   "execution_count": null,
   "metadata": {},
   "outputs": [],
   "source": []
  }
 ],
 "metadata": {
  "kernelspec": {
   "display_name": "Python 2",
   "language": "python",
   "name": "python2"
  },
  "language_info": {
   "codemirror_mode": {
    "name": "ipython",
    "version": 2
   },
   "file_extension": ".py",
   "mimetype": "text/x-python",
   "name": "python",
   "nbconvert_exporter": "python",
   "pygments_lexer": "ipython2",
   "version": "2.7.12"
  }
 },
 "nbformat": 4,
 "nbformat_minor": 1
}
